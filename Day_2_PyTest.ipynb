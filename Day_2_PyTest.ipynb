{
 "cells": [
  {
   "cell_type": "markdown",
   "metadata": {},
   "source": [
    "***First coding assignment***"
   ]
  },
  {
   "cell_type": "markdown",
   "metadata": {},
   "source": [
    "**1. Create a code that prints all odd numbers smaller than given value**"
   ]
  },
  {
   "cell_type": "code",
   "execution_count": 96,
   "metadata": {},
   "outputs": [
    {
     "name": "stdout",
     "output_type": "stream",
     "text": [
      "[2, 4, 6, 8, 10, 12, 14, 16, 18, 20, 22, 24, 26, 28, 30, 32, 34, 36, 38, 40, 42, 44, 46, 48, 50]\n"
     ]
    }
   ],
   "source": [
    "# For this one, I had to go back to look up the proper function synthax, as well as to get a refresher on the modulo operator.\n",
    "def odd_numbers_printer(x): #define a function\n",
    "    listanswers=[]\n",
    "    i=2\n",
    "    while i <= x: # redo with for loop\n",
    "        if i%2==0:\n",
    "            listanswers.append(i)\n",
    "        i+=1\n",
    "    print(listanswers)\n",
    "odd_numbers_printer(50) #-> Used to test the function with given value 50"
   ]
  },
  {
   "cell_type": "markdown",
   "metadata": {},
   "source": [
    "**2. Create a code that returns sum of numbers read from user input, handle exceptions like user providing string**"
   ]
  },
  {
   "cell_type": "code",
   "execution_count": 43,
   "metadata": {},
   "outputs": [
    {
     "ename": "TypeError",
     "evalue": "unsupported operand type(s) for +: 'int' and 'str'",
     "output_type": "error",
     "traceback": [
      "\u001b[1;31m---------------------------------------------------------------------------\u001b[0m",
      "\u001b[1;31mTypeError\u001b[0m                                 Traceback (most recent call last)",
      "\u001b[1;32mc:\\Users\\Simon\\OneDrive - infinitii ai inc (1)\\Py_assignment\\Day_2_PyTest.ipynb Cell 5\u001b[0m line \u001b[0;36m5\n\u001b[0;32m      <a href='vscode-notebook-cell:/c%3A/Users/Simon/OneDrive%20-%20infinitii%20ai%20inc%20%281%29/Py_assignment/Day_2_PyTest.ipynb#X13sZmlsZQ%3D%3D?line=2'>3</a>\u001b[0m     sum_of_number_list \u001b[39m=\u001b[39m \u001b[39mlist\u001b[39m(sum_of_number_answer\u001b[39m.\u001b[39mreplace(\u001b[39m\"\u001b[39m\u001b[39m \u001b[39m\u001b[39m\"\u001b[39m, \u001b[39m\"\u001b[39m\u001b[39m\"\u001b[39m))\n\u001b[0;32m      <a href='vscode-notebook-cell:/c%3A/Users/Simon/OneDrive%20-%20infinitii%20ai%20inc%20%281%29/Py_assignment/Day_2_PyTest.ipynb#X13sZmlsZQ%3D%3D?line=3'>4</a>\u001b[0m     \u001b[39m#sum_of_number_list = list(map(int, sum_of_number_list))\u001b[39;00m\n\u001b[1;32m----> <a href='vscode-notebook-cell:/c%3A/Users/Simon/OneDrive%20-%20infinitii%20ai%20inc%20%281%29/Py_assignment/Day_2_PyTest.ipynb#X13sZmlsZQ%3D%3D?line=4'>5</a>\u001b[0m     \u001b[39mprint\u001b[39m(\u001b[39msum\u001b[39;49m(sum_of_number_list))\n\u001b[0;32m      <a href='vscode-notebook-cell:/c%3A/Users/Simon/OneDrive%20-%20infinitii%20ai%20inc%20%281%29/Py_assignment/Day_2_PyTest.ipynb#X13sZmlsZQ%3D%3D?line=5'>6</a>\u001b[0m \u001b[39mexcept\u001b[39;00m \u001b[39mValueError\u001b[39;00m:\n\u001b[0;32m      <a href='vscode-notebook-cell:/c%3A/Users/Simon/OneDrive%20-%20infinitii%20ai%20inc%20%281%29/Py_assignment/Day_2_PyTest.ipynb#X13sZmlsZQ%3D%3D?line=6'>7</a>\u001b[0m     \u001b[39mprint\u001b[39m(\u001b[39m\"\u001b[39m\u001b[39mplease provide a numerical form to all numbers\u001b[39m\u001b[39m\"\u001b[39m)\n",
      "\u001b[1;31mTypeError\u001b[0m: unsupported operand type(s) for +: 'int' and 'str'"
     ]
    }
   ],
   "source": [
    "#This one took me quite a while. \n",
    "# I never used the input function so I had to look that one up. \n",
    "# Nether was I familiar with the try-except function.\n",
    "# I believe the logic is good \n",
    "\n",
    "try:\n",
    "    sum_of_number_answer = input('Hello, please provide the numbers you wish to sum, using the spacebar to separate each of them')\n",
    "    sum_of_number_list = list(sum_of_number_answer.replace(\" \", \"\")) #use split\n",
    "    sum_of_number_list = list(map(int, sum_of_number_list))\n",
    "    print(sum(sum_of_number_list))\n",
    "except ValueError:\n",
    "    print(\"please provide a numerical form to all numbers\")"
   ]
  },
  {
   "cell_type": "markdown",
   "metadata": {},
   "source": [
    "**3. Create functions for calculating Greatest common divisor and Least common multiple for given values**"
   ]
  },
  {
   "cell_type": "code",
   "execution_count": 107,
   "metadata": {},
   "outputs": [
    {
     "data": {
      "text/plain": [
       "10"
      ]
     },
     "execution_count": 107,
     "metadata": {},
     "output_type": "execute_result"
    }
   ],
   "source": [
    "#function for greatest common divisor\n",
    "\n",
    "j=round(float(input(\"chose first number\"))) #user input number_1\n",
    "k=round(float(input(\"chose second number\"))) #user input number_2\n",
    "\n",
    "def find_gcd(j,k):\n",
    "\n",
    "    listanswer1=[]\n",
    "    listanswer2=[]\n",
    "    commondivisor=[]\n",
    "\n",
    "    for l in range(1,j+1):\n",
    "        if j%l==0:\n",
    "            listanswer1.append(l)\n",
    "    for i in range(1,k+1):\n",
    "        if k%i==0:\n",
    "            listanswer2.append(i)\n",
    "\n",
    "    #print(listanswer1, listanswer2)\n",
    "\n",
    "    for i in listanswer1:\n",
    "        if i in listanswer2: \n",
    "            commondivisor.append(i)\n",
    "\n",
    "    gcd = max(commondivisor)\n",
    "\n",
    "    return gcd\n",
    "\n",
    "find_gcd(j,k)"
   ]
  },
  {
   "cell_type": "code",
   "execution_count": null,
   "metadata": {},
   "outputs": [],
   "source": [
    "#function for least common multiple\n",
    "\n",
    "j=round(float(input(\"chose first number\"))) #user input number_1\n",
    "k=round(float(input(\"chose second number\"))) #user input number_2\n",
    "\n"
   ]
  },
  {
   "cell_type": "markdown",
   "metadata": {},
   "source": [
    "**4. Create a code that, for a given list of integers, returns a list with the same numbers to power of 3. For example: [1,2,3] -> [1,8,27]**"
   ]
  },
  {
   "cell_type": "code",
   "execution_count": 135,
   "metadata": {},
   "outputs": [
    {
     "data": {
      "text/plain": [
       "[1, 8, 27, 64, 125, 216, 343, 512, 729]"
      ]
     },
     "execution_count": 135,
     "metadata": {},
     "output_type": "execute_result"
    }
   ],
   "source": [
    "def power3(list_1):\n",
    "    for i in range(len(list_1)):\n",
    "        list_1[i] **= 3\n",
    "    return(list_1)\n",
    "\n",
    "list_1 = list(range(1, 10)) #example\n",
    "power3(list_1)\n"
   ]
  },
  {
   "cell_type": "code",
   "execution_count": null,
   "metadata": {},
   "outputs": [],
   "source": [
    "# hello"
   ]
  }
 ],
 "metadata": {
  "kernelspec": {
   "display_name": "Python 3",
   "language": "python",
   "name": "python3"
  },
  "language_info": {
   "codemirror_mode": {
    "name": "ipython",
    "version": 3
   },
   "file_extension": ".py",
   "mimetype": "text/x-python",
   "name": "python",
   "nbconvert_exporter": "python",
   "pygments_lexer": "ipython3",
   "version": "3.9.2"
  }
 },
 "nbformat": 4,
 "nbformat_minor": 2
}
